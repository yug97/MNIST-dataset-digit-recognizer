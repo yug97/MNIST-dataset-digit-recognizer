{
  "cells": [
    {
      "metadata": {
        "trusted": true
      },
      "cell_type": "code",
      "source": "# Import the relevant modules to be used later\nfrom __future__ import print_function\nimport gzip\nimport matplotlib.image as mpimg\nimport matplotlib.pyplot as plt\nimport numpy as np\nimport os\nimport shutil\nimport struct\nimport sys\n\ntry: \n    from urllib.request import urlretrieve \nexcept ImportError: \n    from urllib import urlretrieve\n\n# Config matplotlib for inline plotting\n%matplotlib inline",
      "execution_count": 1,
      "outputs": [
        {
          "output_type": "stream",
          "text": "/home/nbuser/anaconda3_420/lib/python3.5/site-packages/matplotlib/font_manager.py:281: UserWarning: Matplotlib is building the font cache using fc-list. This may take a moment.\n  'Matplotlib is building the font cache using fc-list. '\n",
          "name": "stderr"
        }
      ]
    },
    {
      "metadata": {
        "trusted": true
      },
      "cell_type": "code",
      "source": "# Functions to load MNIST images and unpack into train and test set.\n# - loadData reads image data and formats into a 28x28 long array\n# - loadLabels reads the corresponding labels data, 1 for each image\n# - load packs the downloaded image and labels data into a combined format to be read later by \n#   CNTK text reader \n\ndef loadData(src, cimg):\n    print ('Downloading ' + src)\n    gzfname, h = urlretrieve(src, './delete.me')\n    print ('Done.')\n    try:\n        with gzip.open(gzfname) as gz:\n            n = struct.unpack('I', gz.read(4))\n            # Read magic number.\n            if n[0] != 0x3080000:\n                raise Exception('Invalid file: unexpected magic number.')\n            # Read number of entries.\n            n = struct.unpack('>I', gz.read(4))[0]\n            if n != cimg:\n                raise Exception('Invalid file: expected {0} entries.'.format(cimg))\n            crow = struct.unpack('>I', gz.read(4))[0]\n            ccol = struct.unpack('>I', gz.read(4))[0]\n            if crow != 28 or ccol != 28:\n                raise Exception('Invalid file: expected 28 rows/cols per image.')\n            # Read data.\n            res = np.fromstring(gz.read(cimg * crow * ccol), dtype = np.uint8)\n    finally:\n        os.remove(gzfname)\n    return res.reshape((cimg, crow * ccol))\n\ndef loadLabels(src, cimg):\n    print ('Downloading ' + src)\n    gzfname, h = urlretrieve(src, './delete.me')\n    print ('Done.')\n    try:\n        with gzip.open(gzfname) as gz:\n            n = struct.unpack('I', gz.read(4))\n            # Read magic number.\n            if n[0] != 0x1080000:\n                raise Exception('Invalid file: unexpected magic number.')\n            # Read number of entries.\n            n = struct.unpack('>I', gz.read(4))\n            if n[0] != cimg:\n                raise Exception('Invalid file: expected {0} rows.'.format(cimg))\n            # Read labels.\n            res = np.fromstring(gz.read(cimg), dtype = np.uint8)\n    finally:\n        os.remove(gzfname)\n    return res.reshape((cimg, 1))\n\ndef try_download(dataSrc, labelsSrc, cimg):\n    data = loadData(dataSrc, cimg)\n    labels = loadLabels(labelsSrc, cimg)\n    return np.hstack((data, labels))\n",
      "execution_count": 3,
      "outputs": []
    },
    {
      "metadata": {
        "trusted": true
      },
      "cell_type": "code",
      "source": "# URLs for the train image and labels data\nurl_train_image = 'http://yann.lecun.com/exdb/mnist/train-images-idx3-ubyte.gz'\nurl_train_labels = 'http://yann.lecun.com/exdb/mnist/train-labels-idx1-ubyte.gz'\nnum_train_samples = 60000\n\nprint(\"Downloading train data\")\ntrain = try_download(url_train_image, url_train_labels, num_train_samples)\n\n\nurl_test_image = 'http://yann.lecun.com/exdb/mnist/t10k-images-idx3-ubyte.gz'\nurl_test_labels = 'http://yann.lecun.com/exdb/mnist/t10k-labels-idx1-ubyte.gz'\nnum_test_samples = 10000\n\nprint(\"Downloading test data\")\ntest = try_download(url_test_image, url_test_labels, num_test_samples)",
      "execution_count": 4,
      "outputs": [
        {
          "output_type": "stream",
          "text": "Downloading train data\nDownloading http://yann.lecun.com/exdb/mnist/train-images-idx3-ubyte.gz\nDone.\n(50855936,)\n",
          "name": "stdout"
        },
        {
          "output_type": "stream",
          "text": "/home/nbuser/anaconda3_420/lib/python3.5/site-packages/ipykernel/__main__.py:27: DeprecationWarning: The binary mode of fromstring is deprecated, as it behaves surprisingly on unicode inputs. Use frombuffer instead\n",
          "name": "stderr"
        },
        {
          "output_type": "stream",
          "text": "Downloading http://yann.lecun.com/exdb/mnist/train-labels-idx1-ubyte.gz\nDone.\n(17301504,)\n(60000,)\n",
          "name": "stdout"
        },
        {
          "output_type": "stream",
          "text": "/home/nbuser/anaconda3_420/lib/python3.5/site-packages/ipykernel/__main__.py:49: DeprecationWarning: The binary mode of fromstring is deprecated, as it behaves surprisingly on unicode inputs. Use frombuffer instead\n",
          "name": "stderr"
        },
        {
          "output_type": "stream",
          "text": "Downloading test data\nDownloading http://yann.lecun.com/exdb/mnist/t10k-images-idx3-ubyte.gz\nDone.\n(50855936,)\nDownloading http://yann.lecun.com/exdb/mnist/t10k-labels-idx1-ubyte.gz\nDone.\n(17301504,)\n(10000,)\n",
          "name": "stdout"
        }
      ]
    },
    {
      "metadata": {
        "trusted": true
      },
      "cell_type": "code",
      "source": "# Plot a random image\nsample_number = 101\nplt.imshow(train[sample_number,:-1].reshape(28,28), cmap=\"gray_r\")\nplt.axis('off')\nprint(\"Image Label: \", train[sample_number,-1])",
      "execution_count": 7,
      "outputs": [
        {
          "output_type": "stream",
          "text": "Image Label:  7\n",
          "name": "stdout"
        },
        {
          "output_type": "display_data",
          "data": {
            "image/png": "[encoded data removed]",
            "text/plain": "<matplotlib.figure.Figure at 0x7f58d5e741d0>"
          },
          "metadata": {}
        }
      ]
    },
    {
      "metadata": {
        "trusted": true
      },
      "cell_type": "code",
      "source": "# Save the data files into a format compatible with CNTK text reader\ndef savetxt(filename, ndarray):\n    dir = os.path.dirname(filename)\n\n    if not os.path.exists(dir):\n        os.makedirs(dir)\n\n    if not os.path.isfile(filename):\n        print(\"Saving\", filename )\n        with open(filename, 'w') as f:\n            labels = list(map(' '.join, np.eye(10, dtype=np.uint).astype(str)))\n            for row in ndarray:\n                row_str = row.astype(str)\n                label_str = labels[row[-1]]\n                feature_str = ' '.join(row_str[:-1])\n                f.write('|labels {} |features {}\\n'.format(label_str, feature_str))\n    else:\n        print(\"File already exists\", filename)\n",
      "execution_count": 8,
      "outputs": []
    },
    {
      "metadata": {
        "trusted": true
      },
      "cell_type": "code",
      "source": "# Save the train and test files (prefer our default path for the data)\ndata_dir = os.path.join(\"..\", \"Examples\", \"Image\", \"DataSets\", \"MNIST\")\nif not os.path.exists(data_dir):\n    data_dir = os.path.join(\"data\", \"MNIST\")\n\nprint ('Writing train text file...')\nsavetxt(os.path.join(data_dir, \"Train-28x28_cntk_text.txt\"), train)\n\nprint ('Writing test text file...')\nsavetxt(os.path.join(data_dir, \"Test-28x28_cntk_text.txt\"), test)\n\nprint('Done')",
      "execution_count": 9,
      "outputs": [
        {
          "output_type": "stream",
          "text": "Writing train text file...\nSaving data/MNIST/Train-28x28_cntk_text.txt\nWriting test text file...\nSaving data/MNIST/Test-28x28_cntk_text.txt\nDone\n",
          "name": "stdout"
        }
      ]
    },
    {
      "metadata": {
        "collapsed": true,
        "trusted": true
      },
      "cell_type": "code",
      "source": "",
      "execution_count": null,
      "outputs": []
    }
  ],
  "metadata": {
    "anaconda-cloud": {},
    "kernelspec": {
      "name": "python3",
      "display_name": "Python 3",
      "language": "python"
    },
    "language_info": {
      "mimetype": "text/x-python",
      "nbconvert_exporter": "python",
      "name": "python",
      "file_extension": ".py",
      "version": "3.5.4",
      "pygments_lexer": "ipython3",
      "codemirror_mode": {
        "version": 3,
        "name": "ipython"
      }
    }
  },
  "nbformat": 4,
  "nbformat_minor": 1
}