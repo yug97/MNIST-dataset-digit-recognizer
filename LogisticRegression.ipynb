{
  "cells": [
    {
      "metadata": {
        "nbpresent": {
          "id": "138d1a78-02e2-4bd6-a20e-07b83f303563"
        },
        "trusted": true
      },
      "cell_type": "code",
      "source": "# Import the relevant components\nfrom __future__ import print_function # Use a function definition from future version (say 3.x from 2.7 interpreter)\nimport matplotlib.image as mpimg\nimport matplotlib.pyplot as plt\nimport numpy as np\nimport sys\nimport os\n\nimport cntk as C\n\n%matplotlib inline",
      "execution_count": 1,
      "outputs": []
    },
    {
      "metadata": {
        "trusted": true
      },
      "cell_type": "code",
      "source": "# Select the right target device when this notebook is being tested:\nif 'TEST_DEVICE' in os.environ:\n    if os.environ['TEST_DEVICE'] == 'cpu':\n        C.device.try_set_default_device(C.device.cpu())\n    else:\n        C.device.try_set_default_device(C.device.gpu(0))",
      "execution_count": 2,
      "outputs": []
    },
    {
      "metadata": {
        "trusted": true
      },
      "cell_type": "code",
      "source": "# Test for CNTK version\nif not C.__version__ == \"2.0\":\n    raise Exception(\"work with 2.0. Current Version: \" + C.__version__) ",
      "execution_count": 3,
      "outputs": [
        {
          "output_type": "error",
          "ename": "Exception",
          "evalue": "work with 2.0. Current Version: 2.5.1",
          "traceback": [
            "\u001b[0;31m---------------------------------------------------------------------------\u001b[0m",
            "\u001b[0;31mException\u001b[0m                                 Traceback (most recent call last)",
            "\u001b[0;32m<ipython-input-3-5ab7d8303df1>\u001b[0m in \u001b[0;36m<module>\u001b[0;34m()\u001b[0m\n\u001b[1;32m      1\u001b[0m \u001b[0;31m# Test for CNTK version\u001b[0m\u001b[0;34m\u001b[0m\u001b[0;34m\u001b[0m\u001b[0m\n\u001b[1;32m      2\u001b[0m \u001b[0;32mif\u001b[0m \u001b[0;32mnot\u001b[0m \u001b[0mC\u001b[0m\u001b[0;34m.\u001b[0m\u001b[0m__version__\u001b[0m \u001b[0;34m==\u001b[0m \u001b[0;34m\"2.0\"\u001b[0m\u001b[0;34m:\u001b[0m\u001b[0;34m\u001b[0m\u001b[0m\n\u001b[0;32m----> 3\u001b[0;31m     \u001b[0;32mraise\u001b[0m \u001b[0mException\u001b[0m\u001b[0;34m(\u001b[0m\u001b[0;34m\"work with 2.0. Current Version: \"\u001b[0m \u001b[0;34m+\u001b[0m \u001b[0mC\u001b[0m\u001b[0;34m.\u001b[0m\u001b[0m__version__\u001b[0m\u001b[0;34m)\u001b[0m\u001b[0;34m\u001b[0m\u001b[0m\n\u001b[0m",
            "\u001b[0;31mException\u001b[0m: work with 2.0. Current Version: 2.5.1"
          ]
        }
      ]
    },
    {
      "metadata": {
        "trusted": true
      },
      "cell_type": "code",
      "source": "# Ensure we always get the same amount of randomness\nnp.random.seed(0)\nC.cntk_py.set_fixed_random_seed(1)\nC.cntk_py.force_deterministic_algorithms()\n\n# Define the data dimensions\ninput_dim = 784\nnum_output_classes = 10",
      "execution_count": 4,
      "outputs": []
    },
    {
      "metadata": {
        "trusted": true
      },
      "cell_type": "code",
      "source": "# Read a CTF formatted text (as mentioned above) using the CTF deserializer from a file\ndef create_reader(path, is_training, input_dim, num_label_classes):\n    \n    labelStream = C.io.StreamDef(field='labels', shape=num_label_classes, is_sparse=False)\n    featureStream = C.io.StreamDef(field='features', shape=input_dim, is_sparse=False)\n    \n    deserailizer = C.io.CTFDeserializer(path, C.io.StreamDefs(labels = labelStream, features = featureStream))\n            \n    return C.io.MinibatchSource(deserailizer,\n       randomize = is_training, max_sweeps = C.io.INFINITELY_REPEAT if is_training else 1)",
      "execution_count": 5,
      "outputs": []
    },
    {
      "metadata": {
        "trusted": true
      },
      "cell_type": "code",
      "source": "# Ensure the training and test data is generated.\n# We search in two locations in the toolkit for the cached MNIST data set.\ndata_found = False\n\nfor data_dir in [os.path.join(\"..\", \"Examples\", \"Image\", \"DataSets\", \"MNIST\"),\n                 os.path.join(\"data\", \"MNIST\")]:\n    train_file = os.path.join(data_dir, \"Train-28x28_cntk_text.txt\")\n    test_file = os.path.join(data_dir, \"Test-28x28_cntk_text.txt\")\n    if os.path.isfile(train_file) and os.path.isfile(test_file):\n        data_found = True\n        break\n        \nif not data_found:\n    raise ValueError(\"Generate the data using MNIST_DataLoader\")\n    \nprint(\"Data directory is {0}\".format(data_dir))",
      "execution_count": 6,
      "outputs": [
        {
          "output_type": "stream",
          "text": "Data directory is data/MNIST\n",
          "name": "stdout"
        }
      ]
    },
    {
      "metadata": {
        "trusted": true
      },
      "cell_type": "code",
      "source": "input = C.input_variable(input_dim)\nlabel = C.input_variable(num_output_classes)",
      "execution_count": 10,
      "outputs": []
    },
    {
      "metadata": {
        "trusted": true
      },
      "cell_type": "code",
      "source": "def create_model(features):\n    with C.layers.default_options(init = C.glorot_uniform()):\n        r = C.layers.Dense(num_output_classes, activation = None)(features)\n        return r",
      "execution_count": 12,
      "outputs": []
    },
    {
      "metadata": {
        "trusted": true
      },
      "cell_type": "code",
      "source": "# Scale the input to 0-1 range by dividing each pixel by 255.\ninput_s = input/255\nz = create_model(input_s)",
      "execution_count": 13,
      "outputs": []
    },
    {
      "metadata": {
        "trusted": true
      },
      "cell_type": "code",
      "source": "loss = C.cross_entropy_with_softmax(z, label)",
      "execution_count": 14,
      "outputs": []
    },
    {
      "metadata": {
        "trusted": true
      },
      "cell_type": "code",
      "source": "label_error = C.classification_error(z, label)",
      "execution_count": 15,
      "outputs": []
    },
    {
      "metadata": {
        "trusted": true
      },
      "cell_type": "code",
      "source": "# Instantiate the trainer object to drive the model training\nlearning_rate = 0.2\nlr_schedule = C.learning_rate_schedule(learning_rate, C.UnitType.minibatch)\nlearner = C.sgd(z.parameters, lr_schedule)\ntrainer = C.Trainer(z, (loss, label_error), [learner])",
      "execution_count": 21,
      "outputs": []
    },
    {
      "metadata": {
        "trusted": true
      },
      "cell_type": "code",
      "source": "#utility function to compute the moving average sum.\n#implementation is possible with np.cumsum() function\ndef moving_average(a, w=5):\n    if len(a) < w:\n        return a[:]    # Need to send a copy of the array\n    return [val if idx < w else sum(a[(idx-w):idx])/w for idx, val in enumerate(a)]\n\n\n#utility that prints the training progress\ndef print_training_progress(trainer, mb, frequency, verbose=1):\n    training_loss = \"NA\"\n    eval_error = \"NA\"\n\n    if mb%frequency == 0:\n        training_loss = trainer.previous_minibatch_loss_average\n        eval_error = trainer.previous_minibatch_evaluation_average\n        if verbose: \n            print (\"Minibatch: {0}, Loss: {1:.4f}, Error: {2:.2f}%\".format(mb, training_loss, eval_error*100))\n        \n    return mb, training_loss, eval_error",
      "execution_count": 22,
      "outputs": []
    },
    {
      "metadata": {
        "trusted": true
      },
      "cell_type": "code",
      "source": "# Initialize the parameters for the trainer\nminibatch_size = 64\nnum_samples_per_sweep = 60000\nnum_sweeps_to_train_with = 10\nnum_minibatches_to_train = (num_samples_per_sweep * num_sweeps_to_train_with) / minibatch_size",
      "execution_count": 23,
      "outputs": []
    },
    {
      "metadata": {
        "trusted": true
      },
      "cell_type": "code",
      "source": "# reader to training data set\nreader_train = create_reader(train_file, True, input_dim, num_output_classes)\n\n# Map the data streams to the input and labels.\ninput_map = {\n    label  : reader_train.streams.labels,\n    input  : reader_train.streams.features\n} \n\n# Run the trainer on and perform model training\ntraining_progress_output_freq = 500\n\nplotdata = {\"batchsize\":[], \"loss\":[], \"error\":[]}\n\nfor i in range(0, int(num_minibatches_to_train)):\n    \n    # Read a mini batch from the training data file\n    data = reader_train.next_minibatch(minibatch_size, input_map = input_map)\n    \n    trainer.train_minibatch(data)\n    batchsize, loss, error = print_training_progress(trainer, i, training_progress_output_freq, verbose=1)\n    \n    if not (loss == \"NA\" or error ==\"NA\"):\n        plotdata[\"batchsize\"].append(batchsize)\n        plotdata[\"loss\"].append(loss)\n        plotdata[\"error\"].append(error)",
      "execution_count": 24,
      "outputs": [
        {
          "output_type": "stream",
          "text": "Minibatch: 0, Loss: 1.8661, Error: 56.25%\nMinibatch: 500, Loss: 0.2540, Error: 6.25%\nMinibatch: 1000, Loss: 0.2628, Error: 3.12%\nMinibatch: 1500, Loss: 0.4909, Error: 15.62%\nMinibatch: 2000, Loss: 0.2290, Error: 7.81%\nMinibatch: 2500, Loss: 0.1545, Error: 4.69%\nMinibatch: 3000, Loss: 0.2868, Error: 7.81%\nMinibatch: 3500, Loss: 0.2961, Error: 6.25%\nMinibatch: 4000, Loss: 0.2763, Error: 3.12%\nMinibatch: 4500, Loss: 0.2333, Error: 7.81%\nMinibatch: 5000, Loss: 0.2288, Error: 6.25%\nMinibatch: 5500, Loss: 0.1872, Error: 6.25%\nMinibatch: 6000, Loss: 0.1601, Error: 3.12%\nMinibatch: 6500, Loss: 0.2085, Error: 7.81%\nMinibatch: 7000, Loss: 0.3106, Error: 9.38%\nMinibatch: 7500, Loss: 0.2930, Error: 6.25%\nMinibatch: 8000, Loss: 0.0858, Error: 0.00%\nMinibatch: 8500, Loss: 0.1393, Error: 4.69%\nMinibatch: 9000, Loss: 0.3308, Error: 9.38%\n",
          "name": "stdout"
        }
      ]
    },
    {
      "metadata": {
        "trusted": true
      },
      "cell_type": "code",
      "source": "# Compute the moving average loss to smooth out the noise in SGD\nplotdata[\"avgloss\"] = moving_average(plotdata[\"loss\"])\nplotdata[\"avgerror\"] = moving_average(plotdata[\"error\"])\n\n# Plot the training loss and the training error\nimport matplotlib.pyplot as plt\n\nplt.figure(1)\nplt.subplot(211)\nplt.plot(plotdata[\"batchsize\"], plotdata[\"avgloss\"], 'b--')\nplt.xlabel('Minibatch number')\nplt.ylabel('Loss')\nplt.title('Minibatch run vs. Training loss')\n\nplt.show()\n\nplt.subplot(212)\nplt.plot(plotdata[\"batchsize\"], plotdata[\"avgerror\"], 'r--')\nplt.xlabel('Minibatch number')\nplt.ylabel('Label Prediction Error')\nplt.title('Minibatch run vs. Label Prediction Error')\nplt.show()",
      "execution_count": 29,
      "outputs": [
        {
          "output_type": "display_data",
          "data": {
            "image/png": "[encoded data removed]",
            "text/plain": "<matplotlib.figure.Figure at 0x7f50bdd50780>"
          },
          "metadata": {}
        },
        {
          "output_type": "display_data",
          "data": {
            "image/png": "[encoded data removed]",
            "text/plain": "<matplotlib.figure.Figure at 0x7f50be0f0080>"
          },
          "metadata": {}
        }
      ]
    },
    {
      "metadata": {
        "trusted": true
      },
      "cell_type": "code",
      "source": "# Read the training data\nreader_test = create_reader(test_file, False, input_dim, num_output_classes)\n\ntest_input_map = {\n    label  : reader_test.streams.labels,\n    input  : reader_test.streams.features,\n}\n\n# Test data for trained model\ntest_minibatch_size = 512\nnum_samples = 10000\nnum_minibatches_to_test = num_samples // test_minibatch_size\ntest_result = 0.0\n\nfor i in range(num_minibatches_to_test):\n    \n    data = reader_test.next_minibatch(test_minibatch_size,\n                                      input_map = test_input_map)\n\n    eval_error = trainer.test_minibatch(data)\n    test_result = test_result + eval_error\n\n# Average of evaluation errors of all test minibatches\nprint(\"Average test error: {0:.2f}%\".format(test_result*100 / num_minibatches_to_test))",
      "execution_count": 30,
      "outputs": [
        {
          "output_type": "stream",
          "text": "Average test error: 7.65%\n",
          "name": "stdout"
        }
      ]
    },
    {
      "metadata": {
        "trusted": true
      },
      "cell_type": "code",
      "source": "out = C.softmax(z)",
      "execution_count": 31,
      "outputs": []
    },
    {
      "metadata": {
        "trusted": true
      },
      "cell_type": "code",
      "source": "# Read the data for evaluation\nreader_eval = create_reader(test_file, False, input_dim, num_output_classes)\n\neval_minibatch_size = 25\neval_input_map = {input: reader_eval.streams.features} \n\ndata = reader_test.next_minibatch(eval_minibatch_size, input_map = test_input_map)\n\nimg_label = data[label].asarray()\nimg_data = data[input].asarray()\npredicted_label_prob = [out.eval(img_data[i]) for i in range(len(img_data))]",
      "execution_count": 32,
      "outputs": []
    },
    {
      "metadata": {
        "trusted": true
      },
      "cell_type": "code",
      "source": "# Find the index with the maximum value for both predicted as well as the ground truth\npred = [np.argmax(predicted_label_prob[i]) for i in range(len(predicted_label_prob))]\ngtlabel = [np.argmax(img_label[i]) for i in range(len(img_label))]",
      "execution_count": 33,
      "outputs": []
    },
    {
      "metadata": {
        "trusted": true
      },
      "cell_type": "code",
      "source": "print(\"Label    :\", gtlabel[:25])\nprint(\"Predicted:\", pred)",
      "execution_count": 34,
      "outputs": [
        {
          "output_type": "stream",
          "text": "Label    : [4, 5, 6, 7, 8, 9, 7, 4, 6, 1, 4, 0, 9, 9, 3, 7, 8, 4, 7, 5, 8, 5, 3, 2, 2]\nPredicted: [4, 6, 6, 7, 5, 8, 7, 4, 6, 1, 6, 0, 4, 9, 3, 7, 1, 2, 7, 5, 8, 6, 3, 2, 0]\n",
          "name": "stdout"
        }
      ]
    },
    {
      "metadata": {
        "trusted": true
      },
      "cell_type": "code",
      "source": "# Plot a random image\nsample_number = 5\nplt.imshow(img_data[sample_number].reshape(28,28), cmap=\"gray_r\")\nplt.axis('off')\n\nimg_gt, img_pred = gtlabel[sample_number], pred[sample_number]\nprint(\"Image Label: \", img_pred)",
      "execution_count": 35,
      "outputs": [
        {
          "output_type": "stream",
          "text": "Image Label:  8\n",
          "name": "stdout"
        },
        {
          "output_type": "display_data",
          "data": {
            "image/png": "[encoded data removed]",
            "text/plain": "<matplotlib.figure.Figure at 0x7f50bdd43e80>"
          },
          "metadata": {}
        }
      ]
    }
  ],
  "metadata": {
    "anaconda-cloud": {},
    "kernelspec": {
      "name": "python3",
      "display_name": "Python 3",
      "language": "python"
    },
    "language_info": {
      "mimetype": "text/x-python",
      "nbconvert_exporter": "python",
      "name": "python",
      "file_extension": ".py",
      "version": "3.5.4",
      "pygments_lexer": "ipython3",
      "codemirror_mode": {
        "version": 3,
        "name": "ipython"
      }
    }
  },
  "nbformat": 4,
  "nbformat_minor": 1
}